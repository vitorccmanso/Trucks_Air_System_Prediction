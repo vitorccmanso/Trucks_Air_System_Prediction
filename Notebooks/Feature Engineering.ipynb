{
 "cells": [
  {
   "cell_type": "markdown",
   "metadata": {},
   "source": [
    "# Feature Engineering"
   ]
  },
  {
   "cell_type": "code",
   "execution_count": 1,
   "metadata": {},
   "outputs": [],
   "source": [
    "import sys\n",
    "import pandas as pd\n",
    "sys.path.append('../')\n",
    "from utils.engineering import Transformations, FeaturesSelection\n",
    "from utils.visualizations import extract_skewness_summary"
   ]
  },
  {
   "cell_type": "markdown",
   "metadata": {},
   "source": [
    "# Data"
   ]
  },
  {
   "cell_type": "code",
   "execution_count": 2,
   "metadata": {},
   "outputs": [
    {
     "data": {
      "text/html": [
       "<div>\n",
       "<style scoped>\n",
       "    .dataframe tbody tr th:only-of-type {\n",
       "        vertical-align: middle;\n",
       "    }\n",
       "\n",
       "    .dataframe tbody tr th {\n",
       "        vertical-align: top;\n",
       "    }\n",
       "\n",
       "    .dataframe thead th {\n",
       "        text-align: right;\n",
       "    }\n",
       "</style>\n",
       "<table border=\"1\" class=\"dataframe\">\n",
       "  <thead>\n",
       "    <tr style=\"text-align: right;\">\n",
       "      <th></th>\n",
       "      <th>class</th>\n",
       "      <th>aa_000</th>\n",
       "      <th>ac_000</th>\n",
       "      <th>ad_000</th>\n",
       "      <th>ae_000</th>\n",
       "      <th>af_000</th>\n",
       "      <th>ag_000</th>\n",
       "      <th>ag_001</th>\n",
       "      <th>ag_002</th>\n",
       "      <th>ag_003</th>\n",
       "      <th>...</th>\n",
       "      <th>ee_002</th>\n",
       "      <th>ee_003</th>\n",
       "      <th>ee_004</th>\n",
       "      <th>ee_005</th>\n",
       "      <th>ee_006</th>\n",
       "      <th>ee_007</th>\n",
       "      <th>ee_008</th>\n",
       "      <th>ee_009</th>\n",
       "      <th>ef_000</th>\n",
       "      <th>eg_000</th>\n",
       "    </tr>\n",
       "  </thead>\n",
       "  <tbody>\n",
       "    <tr>\n",
       "      <th>0</th>\n",
       "      <td>0</td>\n",
       "      <td>76698</td>\n",
       "      <td>2130706438</td>\n",
       "      <td>280</td>\n",
       "      <td>0</td>\n",
       "      <td>0</td>\n",
       "      <td>0</td>\n",
       "      <td>0</td>\n",
       "      <td>0</td>\n",
       "      <td>0</td>\n",
       "      <td>...</td>\n",
       "      <td>1240520</td>\n",
       "      <td>493384</td>\n",
       "      <td>721044</td>\n",
       "      <td>469792</td>\n",
       "      <td>339156</td>\n",
       "      <td>157956</td>\n",
       "      <td>73224</td>\n",
       "      <td>0</td>\n",
       "      <td>0</td>\n",
       "      <td>0</td>\n",
       "    </tr>\n",
       "    <tr>\n",
       "      <th>1</th>\n",
       "      <td>0</td>\n",
       "      <td>33058</td>\n",
       "      <td>0</td>\n",
       "      <td>126</td>\n",
       "      <td>0</td>\n",
       "      <td>0</td>\n",
       "      <td>0</td>\n",
       "      <td>0</td>\n",
       "      <td>0</td>\n",
       "      <td>0</td>\n",
       "      <td>...</td>\n",
       "      <td>421400</td>\n",
       "      <td>178064</td>\n",
       "      <td>293306</td>\n",
       "      <td>245416</td>\n",
       "      <td>133654</td>\n",
       "      <td>81140</td>\n",
       "      <td>97576</td>\n",
       "      <td>1500</td>\n",
       "      <td>0</td>\n",
       "      <td>0</td>\n",
       "    </tr>\n",
       "    <tr>\n",
       "      <th>2</th>\n",
       "      <td>0</td>\n",
       "      <td>41040</td>\n",
       "      <td>228</td>\n",
       "      <td>100</td>\n",
       "      <td>0</td>\n",
       "      <td>0</td>\n",
       "      <td>0</td>\n",
       "      <td>0</td>\n",
       "      <td>0</td>\n",
       "      <td>0</td>\n",
       "      <td>...</td>\n",
       "      <td>277378</td>\n",
       "      <td>159812</td>\n",
       "      <td>423992</td>\n",
       "      <td>409564</td>\n",
       "      <td>320746</td>\n",
       "      <td>158022</td>\n",
       "      <td>95128</td>\n",
       "      <td>514</td>\n",
       "      <td>0</td>\n",
       "      <td>0</td>\n",
       "    </tr>\n",
       "    <tr>\n",
       "      <th>3</th>\n",
       "      <td>0</td>\n",
       "      <td>12</td>\n",
       "      <td>70</td>\n",
       "      <td>66</td>\n",
       "      <td>0</td>\n",
       "      <td>10</td>\n",
       "      <td>0</td>\n",
       "      <td>0</td>\n",
       "      <td>0</td>\n",
       "      <td>318</td>\n",
       "      <td>...</td>\n",
       "      <td>240</td>\n",
       "      <td>46</td>\n",
       "      <td>58</td>\n",
       "      <td>44</td>\n",
       "      <td>10</td>\n",
       "      <td>0</td>\n",
       "      <td>0</td>\n",
       "      <td>0</td>\n",
       "      <td>4</td>\n",
       "      <td>32</td>\n",
       "    </tr>\n",
       "    <tr>\n",
       "      <th>4</th>\n",
       "      <td>0</td>\n",
       "      <td>60874</td>\n",
       "      <td>1368</td>\n",
       "      <td>458</td>\n",
       "      <td>0</td>\n",
       "      <td>0</td>\n",
       "      <td>0</td>\n",
       "      <td>0</td>\n",
       "      <td>0</td>\n",
       "      <td>0</td>\n",
       "      <td>...</td>\n",
       "      <td>622012</td>\n",
       "      <td>229790</td>\n",
       "      <td>405298</td>\n",
       "      <td>347188</td>\n",
       "      <td>286954</td>\n",
       "      <td>311560</td>\n",
       "      <td>433954</td>\n",
       "      <td>1218</td>\n",
       "      <td>0</td>\n",
       "      <td>0</td>\n",
       "    </tr>\n",
       "  </tbody>\n",
       "</table>\n",
       "<p>5 rows × 162 columns</p>\n",
       "</div>"
      ],
      "text/plain": [
       "   class  aa_000      ac_000  ad_000  ae_000  af_000  ag_000  ag_001  ag_002  \\\n",
       "0      0   76698  2130706438     280       0       0       0       0       0   \n",
       "1      0   33058           0     126       0       0       0       0       0   \n",
       "2      0   41040         228     100       0       0       0       0       0   \n",
       "3      0      12          70      66       0      10       0       0       0   \n",
       "4      0   60874        1368     458       0       0       0       0       0   \n",
       "\n",
       "   ag_003  ...   ee_002  ee_003  ee_004  ee_005  ee_006  ee_007  ee_008  \\\n",
       "0       0  ...  1240520  493384  721044  469792  339156  157956   73224   \n",
       "1       0  ...   421400  178064  293306  245416  133654   81140   97576   \n",
       "2       0  ...   277378  159812  423992  409564  320746  158022   95128   \n",
       "3     318  ...      240      46      58      44      10       0       0   \n",
       "4       0  ...   622012  229790  405298  347188  286954  311560  433954   \n",
       "\n",
       "   ee_009  ef_000  eg_000  \n",
       "0       0       0       0  \n",
       "1    1500       0       0  \n",
       "2     514       0       0  \n",
       "3       0       4      32  \n",
       "4    1218       0       0  \n",
       "\n",
       "[5 rows x 162 columns]"
      ]
     },
     "execution_count": 2,
     "metadata": {},
     "output_type": "execute_result"
    }
   ],
   "source": [
    "df = pd.read_csv(\"./Data/clean_air_system_previous_years.csv\")\n",
    "df = df.drop(columns=[\"cd_000\"])\n",
    "df.head()"
   ]
  },
  {
   "cell_type": "code",
   "execution_count": 3,
   "metadata": {},
   "outputs": [],
   "source": [
    "transformations = Transformations()"
   ]
  },
  {
   "cell_type": "markdown",
   "metadata": {},
   "source": [
    "# Features Distributions"
   ]
  },
  {
   "cell_type": "code",
   "execution_count": 4,
   "metadata": {},
   "outputs": [
    {
     "name": "stdout",
     "output_type": "stream",
     "text": [
      "Number of columns with outliers: 161\n"
     ]
    }
   ],
   "source": [
    "outliers_before = transformations.top_n_outliers(df, \"class\")\n",
    "print(f\"Number of columns with outliers: {len(outliers_before)}\")"
   ]
  },
  {
   "cell_type": "code",
   "execution_count": 5,
   "metadata": {},
   "outputs": [],
   "source": [
    "df_transformed, log_columns, cubic_columns = transformations.columns_transformations(df.copy(), \"class\")"
   ]
  },
  {
   "cell_type": "code",
   "execution_count": 6,
   "metadata": {},
   "outputs": [],
   "source": [
    "outliers_after = transformations.top_n_outliers(df_transformed, \"class\")"
   ]
  },
  {
   "cell_type": "code",
   "execution_count": 7,
   "metadata": {},
   "outputs": [
    {
     "name": "stdout",
     "output_type": "stream",
     "text": [
      "Number of columns that had the number of outliers changed: 115\n",
      "Column ba_008: Outliers reduced by 12781\n",
      "Column dx_000: Outliers reduced by 12261\n",
      "Column ag_009: Outliers reduced by 12187\n",
      "Column cz_000: Outliers reduced by 11746\n",
      "Column ee_009: Outliers reduced by 11525\n",
      "Column cm_000: Outliers reduced by 11428\n",
      "Column al_000: Outliers reduced by 11236\n",
      "Column bz_000: Outliers reduced by 11017\n",
      "Column am_0: Outliers reduced by 10971\n",
      "Column cn_002: Outliers reduced by 10511\n",
      "Column eb_000: Outliers reduced by 10377\n",
      "Column az_006: Outliers reduced by 10083\n",
      "Column ag_004: Outliers reduced by 9855\n",
      "Column bc_000: Outliers reduced by 9228\n",
      "Column az_003: Outliers reduced by 9123\n",
      "Column co_000: Outliers reduced by 8641\n",
      "Column du_000: Outliers reduced by 8469\n",
      "Column cp_000: Outliers reduced by 8462\n",
      "Column av_000: Outliers reduced by 8376\n",
      "Column ay_005: Outliers reduced by 8299\n",
      "Column bf_000: Outliers reduced by 7823\n",
      "Column ba_009: Outliers reduced by 7575\n",
      "Column bd_000: Outliers reduced by 7547\n",
      "Column cn_009: Outliers reduced by 7538\n",
      "Column az_002: Outliers reduced by 7450\n",
      "Column az_001: Outliers reduced by 7374\n",
      "Column be_000: Outliers reduced by 7225\n",
      "Column cs_002: Outliers reduced by 7200\n",
      "Column ax_000: Outliers reduced by 7014\n",
      "Column dv_000: Outliers reduced by 6922\n",
      "Column db_000: Outliers reduced by 6877\n",
      "Column ag_008: Outliers reduced by 6552\n",
      "Column cn_007: Outliers reduced by 6444\n",
      "Column ee_008: Outliers reduced by 6438\n",
      "Column dy_000: Outliers reduced by 6219\n",
      "Column ee_007: Outliers reduced by 6047\n",
      "Column cn_003: Outliers reduced by 5913\n",
      "Column cn_008: Outliers reduced by 5701\n",
      "Column bj_000: Outliers reduced by 5627\n",
      "Column ap_000: Outliers reduced by 5435\n",
      "Column ee_006: Outliers reduced by 5380\n",
      "Column ck_000: Outliers reduced by 5373\n",
      "Column bi_000: Outliers reduced by 5366\n",
      "Column bt_000: Outliers reduced by 5331\n",
      "Column aa_000: Outliers reduced by 5234\n",
      "Column bb_000: Outliers reduced by 5082\n",
      "Column bu_000: Outliers reduced by 5075\n",
      "Column bv_000: Outliers reduced by 5075\n",
      "Column cq_000: Outliers reduced by 5075\n",
      "Column ao_000: Outliers reduced by 5070\n",
      "Column cs_001: Outliers reduced by 5066\n",
      "Column ci_000: Outliers reduced by 4986\n",
      "Column ad_000: Outliers reduced by 4978\n",
      "Column bg_000: Outliers reduced by 4963\n",
      "Column ah_000: Outliers reduced by 4960\n",
      "Column an_000: Outliers reduced by 4960\n",
      "Column dn_000: Outliers reduced by 4952\n",
      "Column bh_000: Outliers reduced by 4948\n",
      "Column ba_007: Outliers reduced by 4831\n",
      "Column ba_005: Outliers reduced by 4799\n",
      "Column aq_000: Outliers reduced by 4783\n",
      "Column ba_006: Outliers reduced by 4676\n",
      "Column cs_004: Outliers reduced by 4658\n",
      "Column by_000: Outliers reduced by 4648\n",
      "Column ba_004: Outliers reduced by 4563\n",
      "Column dp_000: Outliers reduced by 4547\n",
      "Column cn_006: Outliers reduced by 4471\n",
      "Column dd_000: Outliers reduced by 4385\n",
      "Column ee_000: Outliers reduced by 4329\n",
      "Column az_005: Outliers reduced by 4324\n",
      "Column cs_008: Outliers reduced by 4307\n",
      "Column cs_003: Outliers reduced by 4138\n",
      "Column ay_007: Outliers reduced by 4100\n",
      "Column ag_005: Outliers reduced by 4042\n",
      "Column ee_001: Outliers reduced by 3886\n",
      "Column cn_004: Outliers reduced by 3880\n",
      "Column ba_002: Outliers reduced by 3865\n",
      "Column cs_005: Outliers reduced by 3823\n",
      "Column cg_000: Outliers reduced by 3805\n",
      "Column ag_007: Outliers reduced by 3790\n",
      "Column bx_000: Outliers reduced by 3788\n",
      "Column ba_000: Outliers reduced by 3756\n",
      "Column de_000: Outliers reduced by 3739\n",
      "Column ay_006: Outliers reduced by 3726\n",
      "Column az_004: Outliers reduced by 3714\n",
      "Column ee_004: Outliers reduced by 3710\n",
      "Column ee_003: Outliers reduced by 3651\n",
      "Column ct_000: Outliers reduced by 3644\n",
      "Column ba_003: Outliers reduced by 3642\n",
      "Column ee_002: Outliers reduced by 3583\n",
      "Column ba_001: Outliers reduced by 3491\n",
      "Column ee_005: Outliers reduced by 3479\n",
      "Column cs_007: Outliers reduced by 3359\n",
      "Column cs_006: Outliers reduced by 3326\n",
      "Column dt_000: Outliers reduced by 3265\n",
      "Column ds_000: Outliers reduced by 3249\n",
      "Column do_000: Outliers reduced by 3176\n",
      "Column cc_000: Outliers reduced by 3079\n",
      "Column ce_000: Outliers reduced by 3072\n",
      "Column cn_005: Outliers reduced by 3037\n",
      "Column ag_006: Outliers reduced by 2951\n",
      "Column dc_000: Outliers reduced by 2822\n",
      "Column cv_000: Outliers reduced by 2806\n",
      "Column ec_00: Outliers reduced by 2671\n",
      "Column ed_000: Outliers reduced by 2516\n",
      "Column bs_000: Outliers reduced by 2062\n",
      "Column cu_000: Outliers reduced by 1985\n",
      "Column ay_008: Outliers reduced by 1914\n",
      "Column cf_000: Outliers reduced by 1797\n",
      "Column cs_000: Outliers reduced by 1718\n",
      "Column ac_000: Outliers reduced by 1635\n",
      "Column bl_000: Outliers increased by 122\n",
      "Column bk_000: Outliers increased by 650\n",
      "Column az_000: Outliers increased by 2169\n",
      "Column cx_000: Outliers increased by 2701\n"
     ]
    }
   ],
   "source": [
    "sorted_results = transformations.sort_results(outliers_before, outliers_after)\n",
    "print(f\"Number of columns that had the number of outliers changed: {len(sorted_results)}\")\n",
    "for column, reduced in sorted_results:\n",
    "    if reduced < 0:\n",
    "        print(f\"Column {column}: Outliers increased by {abs(reduced)}\")\n",
    "        continue\n",
    "    print(f\"Column {column}: Outliers reduced by {reduced}\")"
   ]
  },
  {
   "cell_type": "code",
   "execution_count": 8,
   "metadata": {},
   "outputs": [
    {
     "data": {
      "text/html": [
       "<div>\n",
       "<style scoped>\n",
       "    .dataframe tbody tr th:only-of-type {\n",
       "        vertical-align: middle;\n",
       "    }\n",
       "\n",
       "    .dataframe tbody tr th {\n",
       "        vertical-align: top;\n",
       "    }\n",
       "\n",
       "    .dataframe thead th {\n",
       "        text-align: right;\n",
       "    }\n",
       "</style>\n",
       "<table border=\"1\" class=\"dataframe\">\n",
       "  <thead>\n",
       "    <tr style=\"text-align: right;\">\n",
       "      <th></th>\n",
       "      <th>count</th>\n",
       "      <th>skew_mean</th>\n",
       "    </tr>\n",
       "    <tr>\n",
       "      <th>skew_type</th>\n",
       "      <th></th>\n",
       "      <th></th>\n",
       "    </tr>\n",
       "  </thead>\n",
       "  <tbody>\n",
       "    <tr>\n",
       "      <th>Negatively Skewed</th>\n",
       "      <td>46</td>\n",
       "      <td>-0.842808</td>\n",
       "    </tr>\n",
       "    <tr>\n",
       "      <th>Normal</th>\n",
       "      <td>36</td>\n",
       "      <td>-0.082658</td>\n",
       "    </tr>\n",
       "    <tr>\n",
       "      <th>Positively Skewed</th>\n",
       "      <td>79</td>\n",
       "      <td>7.194284</td>\n",
       "    </tr>\n",
       "  </tbody>\n",
       "</table>\n",
       "</div>"
      ],
      "text/plain": [
       "                   count  skew_mean\n",
       "skew_type                          \n",
       "Negatively Skewed     46  -0.842808\n",
       "Normal                36  -0.082658\n",
       "Positively Skewed     79   7.194284"
      ]
     },
     "execution_count": 8,
     "metadata": {},
     "output_type": "execute_result"
    }
   ],
   "source": [
    "_, summary_df = extract_skewness_summary(df_transformed, \"class\")\n",
    "summary_df"
   ]
  },
  {
   "cell_type": "markdown",
   "metadata": {},
   "source": [
    "### Observations:\n",
    "- All columns have outliers\n",
    "- When applying the best statistical transformation to each column, getting the lowest possible skew, we saw that 115 columns had the numbers of outliers changed\n",
    "- Out of those 115 columns, only four of them had the number of outliers increase\n",
    "- With the correct transformations, we now have a dataframe with 46 negatively skewed columns and a low skew mean. 36 columns are now considered normally distributed, and the number of positively skewed columns dropped to 79, but the skew mean is still high"
   ]
  },
  {
   "cell_type": "markdown",
   "metadata": {},
   "source": [
    "# Feature Selection"
   ]
  },
  {
   "cell_type": "markdown",
   "metadata": {},
   "source": [
    "## PCA and ANOVA analysis"
   ]
  },
  {
   "cell_type": "code",
   "execution_count": 9,
   "metadata": {},
   "outputs": [],
   "source": [
    "feature_selector = FeaturesSelection(df_transformed, \"class\")"
   ]
  },
  {
   "cell_type": "code",
   "execution_count": 10,
   "metadata": {},
   "outputs": [
    {
     "data": {
      "image/png": "[encoded data removed]",
      "text/plain": [
       "<Figure size 1000x400 with 1 Axes>"
      ]
     },
     "metadata": {},
     "output_type": "display_data"
    }
   ],
   "source": [
    "feature_selector.fit_pca(n_components=0.99)"
   ]
  },
  {
   "cell_type": "code",
   "execution_count": 11,
   "metadata": {},
   "outputs": [],
   "source": [
    "feature_selector.select_features_anova(log_columns, cubic_columns)"
   ]
  },
  {
   "cell_type": "markdown",
   "metadata": {},
   "source": [
    "### Observations:\n",
    "- Since the dataframe still has 161 columns, a combination of PCA and ANOVA was used to find what features to keep\n",
    "- For the PCA, n_components was 0.99, meaning that we want to retain 99% of the data variance\n",
    "- Since there's a lot of outliers, even after the statistical transformations, RobustScaler was used to scale the dataframe before fitting the PCA\n",
    "- As we can see from the graph, the inflection point where we retain 99% of the data variance is with 67 features\n",
    "- N components is used as the k value for the ANOVA test to select the 67 most important features of the dataframe\n",
    "- Four lists of columns were created. They will be saved as two dictionaries as pkl files to be used in the preprocessor"
   ]
  },
  {
   "cell_type": "markdown",
   "metadata": {},
   "source": [
    "# Saving the files"
   ]
  },
  {
   "cell_type": "markdown",
   "metadata": {},
   "source": [
    "### Two pkl files are saved into the folder **artifacts**. These files are dictionaries, with the keys being log_columns and cubic_columns, and the values being the column lists. With this, we can use it in the preprocessor during the model training step, to optimize the code. Also, with these files, we can test to see if reducing the dimension of the dataframe with PCA and ANOVA had big impacts on the performance of the models"
   ]
  },
  {
   "cell_type": "code",
   "execution_count": 12,
   "metadata": {},
   "outputs": [],
   "source": [
    "feature_selector.save_mappings()"
   ]
  }
 ],
 "metadata": {
  "kernelspec": {
   "display_name": "pred-env",
   "language": "python",
   "name": "python3"
  },
  "language_info": {
   "codemirror_mode": {
    "name": "ipython",
    "version": 3
   },
   "file_extension": ".py",
   "mimetype": "text/x-python",
   "name": "python",
   "nbconvert_exporter": "python",
   "pygments_lexer": "ipython3",
   "version": "3.12.4"
  }
 },
 "nbformat": 4,
 "nbformat_minor": 2
}
